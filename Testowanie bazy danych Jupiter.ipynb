{
 "cells": [
  {
   "cell_type": "code",
   "id": "initial_id",
   "metadata": {
    "collapsed": true,
    "ExecuteTime": {
     "end_time": "2024-08-28T14:44:14.026801Z",
     "start_time": "2024-08-28T14:44:13.881563Z"
    }
   },
   "source": [
    "import mysql.connector\n",
    "\n",
    "# Połączenie z bazą danych\n",
    "conn = mysql.connector.connect(\n",
    "    host=\"localhost\",\n",
    "    user=\"gosia\",  # Zmień na swoją nazwę użytkownika\n",
    "    password=\"2367\",          # Zmień na swoje hasło\n",
    "    database=\"moja_baza\",\n",
    "    port=3306\n",
    ")\n",
    "\n",
    "# Tworzenie kursora\n",
    "cursor = conn.cursor()\n",
    "\n",
    "# Wykonanie zapytania\n",
    "cursor.execute(\"SELECT * FROM Gatunek\")\n",
    "\n",
    "# Pobranie wszystkich wyników\n",
    "results = cursor.fetchall()\n",
    "\n",
    "# Wyświetlenie wyników\n",
    "for row in results:\n",
    "    print(row)\n",
    "\n",
    "# Zamknięcie połączenia\n",
    "cursor.close()\n",
    "conn.close()\n"
   ],
   "outputs": [
    {
     "name": "stdout",
     "output_type": "stream",
     "text": [
      "(1, 'Bazylia', 'zioła', 500)\n",
      "(2, 'Pomidor', 'warzywa', 2000)\n",
      "(3, 'Oregano', 'zioła', 300)\n",
      "(4, 'Ogórek', 'warzywa', 1500)\n"
     ]
    }
   ],
   "execution_count": 1
  }
 ],
 "metadata": {
  "kernelspec": {
   "display_name": "Python 3",
   "language": "python",
   "name": "python3"
  },
  "language_info": {
   "codemirror_mode": {
    "name": "ipython",
    "version": 2
   },
   "file_extension": ".py",
   "mimetype": "text/x-python",
   "name": "python",
   "nbconvert_exporter": "python",
   "pygments_lexer": "ipython2",
   "version": "2.7.6"
  }
 },
 "nbformat": 4,
 "nbformat_minor": 5
}
